{
 "cells": [
  {
   "cell_type": "markdown",
   "id": "52b6dbd1",
   "metadata": {},
   "source": [
    "# 🧪 Xian Contract Testing Quick‑Start\n",
    "\n",
    "Welcome!  \n",
    "This notebook shows **how to explore and run the pre‑written unit tests** for the demo contracts.\n",
    "\n",
    "* **Step 1 — install dependencies** (`xian-contracting`, `pytest`) if you’re on Colab.  \n",
    "* **Step 2 — view the test file** so you understand the structure.  \n",
    "* **Step 3 — execute the test‑suite** (green dots = all good).  \n",
    "* **Optional — edit & re‑run**: fork the repo, tweak the tests or contract, and run again.\n",
    "\n",
    "> The goal is to teach *how to use the existing test scaffold* and how you’d extend it—not to walk through contract code line‑by‑line.\n"
   ]
  },
  {
   "cell_type": "code",
   "execution_count": null,
   "id": "8156473f",
   "metadata": {},
   "outputs": [],
   "source": [
    "# 🔧 Install SDK + pytest (Colab only; Binder/Replit already have them via environment.yml)\n",
    "!pip install --quiet git+https://github.com/xian-network/xian-contracting pytest\n"
   ]
  },
  {
   "cell_type": "code",
   "execution_count": null,
   "id": "c64f3858",
   "metadata": {},
   "outputs": [],
   "source": [
    "from pathlib import Path, PurePosixPath\n",
    "import textwrap, pygments, pygments.lexers, pygments.formatters, html\n",
    "\n",
    "test_path = Path('tests/test_con_quickstart.py')\n",
    "print(f'📄 Displaying {PurePosixPath(test_path)}\\n')\n",
    "\n",
    "code = test_path.read_text()\n",
    "print(code)\n"
   ]
  },
  {
   "cell_type": "code",
   "execution_count": null,
   "id": "b4e3539b",
   "metadata": {},
   "outputs": [],
   "source": [
    "# ▶️ Run the unit tests (verbose)\n",
    "!pytest -vv tests/test_con_quickstart.py\n"
   ]
  },
  {
   "cell_type": "markdown",
   "id": "ac0ab813",
   "metadata": {},
   "source": [
    "## Next steps: writing your own tests ✍️\n",
    "\n",
    "1. **Create a new file** inside `tests/`, e.g. `tests/test_your_feature.py`.\n",
    "2. Import `ContractingClient` and follow the pattern you saw above:\n",
    "   ```python\n",
    "   def test_your_feature():\n",
    "       c = ContractingClient()\n",
    "       c.raw_driver.flush_full()\n",
    "       # load contracts, call functions, assert results\n",
    "   ```\n",
    "3. Run `!pytest -q` again to see the new tests execute.\n",
    "4. Commit & push — GitHub Actions (or your CI) should mirror the same `pytest` command.\n",
    "\n",
    "That’s all!\n"
   ]
  }
 ],
 "metadata": {},
 "nbformat": 4,
 "nbformat_minor": 5
}
